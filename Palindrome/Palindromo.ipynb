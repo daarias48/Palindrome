{
  "nbformat": 4,
  "nbformat_minor": 0,
  "metadata": {
    "colab": {
      "provenance": [],
      "authorship_tag": "ABX9TyOuDse0ObfTFdM/PMYDQGr3",
      "include_colab_link": true
    },
    "kernelspec": {
      "name": "python3",
      "display_name": "Python 3"
    },
    "language_info": {
      "name": "python"
    }
  },
  "cells": [
    {
      "cell_type": "markdown",
      "metadata": {
        "id": "view-in-github",
        "colab_type": "text"
      },
      "source": [
        "<a href=\"https://colab.research.google.com/github/daarias48/Python-Projects/blob/main/Palindrome/Palindromo.ipynb\" target=\"_parent\"><img src=\"https://colab.research.google.com/assets/colab-badge.svg\" alt=\"Open In Colab\"/></a>"
      ]
    },
    {
      "cell_type": "code",
      "execution_count": 12,
      "metadata": {
        "colab": {
          "base_uri": "https://localhost:8080/"
        },
        "id": "MqCnqGqYy35g",
        "outputId": "612f195f-5688-4cb8-86d4-f6c189feb09a"
      },
      "outputs": [
        {
          "output_type": "stream",
          "name": "stdout",
          "text": [
            "Insert the word you want to check:   radar\n",
            "It is a palindrome\n"
          ]
        }
      ],
      "source": [
        "word = str(input('Insert the word you want to check:   '))\n",
        "\n",
        "\n",
        "def palindrome(word):\n",
        "  reverse = \"\"\n",
        "  for letter in word:\n",
        "    reverse = letter + reverse\n",
        "  if reverse == word:\n",
        "    return 'It is a palindrome'\n",
        "  else:\n",
        "    return 'It is not a palindrome'\n",
        "\n",
        "print(palindrome(word))"
      ]
    }
  ]
}